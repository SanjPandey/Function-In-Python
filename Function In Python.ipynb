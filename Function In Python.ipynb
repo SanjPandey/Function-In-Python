{
 "cells": [
  {
   "cell_type": "markdown",
   "id": "4b075245",
   "metadata": {},
   "source": [
    "# combine two list in single list"
   ]
  },
  {
   "cell_type": "code",
   "execution_count": 3,
   "id": "0318746c",
   "metadata": {},
   "outputs": [
    {
     "name": "stdout",
     "output_type": "stream",
     "text": [
      "['hello', 'hi', 'sanj', ['sanu', 'manu']]\n"
     ]
    }
   ],
   "source": [
    "a=[\"hello\",\"hi\",\"sanj\"]\n",
    "b=[\"sanu\",\"manu\"]\n",
    "a.append(b)\n",
    "print(a)"
   ]
  },
  {
   "cell_type": "markdown",
   "id": "d7659a10",
   "metadata": {},
   "source": [
    "# print simple addition"
   ]
  },
  {
   "cell_type": "code",
   "execution_count": 4,
   "id": "1ef366b3",
   "metadata": {},
   "outputs": [
    {
     "name": "stdout",
     "output_type": "stream",
     "text": [
      "30\n"
     ]
    }
   ],
   "source": [
    "a=10\n",
    "b=20\n",
    "print(a+b)"
   ]
  },
  {
   "cell_type": "markdown",
   "id": "73413dd1",
   "metadata": {},
   "source": [
    "# Addition of two number using function"
   ]
  },
  {
   "cell_type": "code",
   "execution_count": 39,
   "id": "7e64b3e0",
   "metadata": {},
   "outputs": [
    {
     "name": "stdout",
     "output_type": "stream",
     "text": [
      "10\n"
     ]
    }
   ],
   "source": [
    "def test(a,b):\n",
    "    print(a+b)\n",
    "    \n",
    "test(4,6)"
   ]
  },
  {
   "cell_type": "code",
   "execution_count": 38,
   "id": "d0211358",
   "metadata": {},
   "outputs": [
    {
     "name": "stdout",
     "output_type": "stream",
     "text": [
      "9\n"
     ]
    }
   ],
   "source": [
    "test(4,5) # calling function"
   ]
  },
  {
   "cell_type": "code",
   "execution_count": 11,
   "id": "227168db",
   "metadata": {},
   "outputs": [
    {
     "name": "stdout",
     "output_type": "stream",
     "text": [
      "9\n",
      "None\n"
     ]
    }
   ],
   "source": [
    "def test(a,b):\n",
    "    print(a+b)\n",
    "    \n",
    "a=test(5,4)\n",
    "print(a)"
   ]
  },
  {
   "cell_type": "markdown",
   "id": "2bcbd314",
   "metadata": {},
   "source": [
    "# Addition of two number with return argument"
   ]
  },
  {
   "cell_type": "code",
   "execution_count": 10,
   "id": "cfd20c42",
   "metadata": {},
   "outputs": [
    {
     "name": "stdout",
     "output_type": "stream",
     "text": [
      "9\n"
     ]
    }
   ],
   "source": [
    "def test (a,b):\n",
    "    return(a+b)\n",
    "a=test(5,4)\n",
    "print(a)"
   ]
  },
  {
   "cell_type": "markdown",
   "id": "82962a95",
   "metadata": {},
   "source": [
    "# Local variable Adn global variable"
   ]
  },
  {
   "cell_type": "code",
   "execution_count": 13,
   "id": "62b35478",
   "metadata": {},
   "outputs": [
    {
     "name": "stdout",
     "output_type": "stream",
     "text": [
      "one\n",
      "python\n"
     ]
    }
   ],
   "source": [
    "a=\"one\"\n",
    "def test():\n",
    "    a=\"python\"\n",
    "    return(a)\n",
    "print(a)\n",
    "a=test()\n",
    "print(a)"
   ]
  },
  {
   "cell_type": "code",
   "execution_count": 14,
   "id": "91022281",
   "metadata": {},
   "outputs": [
    {
     "name": "stdout",
     "output_type": "stream",
     "text": [
      "one\n",
      "one\n"
     ]
    }
   ],
   "source": [
    "a=\"one\"\n",
    "\n",
    "def test():\n",
    "    a=\"python\"\n",
    "    return(a)\n",
    "print(a)\n",
    "test()\n",
    "print(a)"
   ]
  },
  {
   "cell_type": "code",
   "execution_count": 16,
   "id": "252f1852",
   "metadata": {},
   "outputs": [
    {
     "name": "stdout",
     "output_type": "stream",
     "text": [
      "one\n",
      "python\n"
     ]
    }
   ],
   "source": [
    "a=\"one\"\n",
    "def test(a):\n",
    "    print(a)\n",
    "    a=\"python\"\n",
    "    print(a)\n",
    "    \n",
    "test(a)"
   ]
  },
  {
   "cell_type": "code",
   "execution_count": 17,
   "id": "9327868b",
   "metadata": {},
   "outputs": [
    {
     "name": "stdout",
     "output_type": "stream",
     "text": [
      "9\n"
     ]
    }
   ],
   "source": [
    "def test(a,b):\n",
    "    print(a+b)\n",
    "test(5,4)"
   ]
  },
  {
   "cell_type": "code",
   "execution_count": 19,
   "id": "7ec86bb1",
   "metadata": {},
   "outputs": [
    {
     "name": "stdout",
     "output_type": "stream",
     "text": [
      "python\n",
      "one\n"
     ]
    }
   ],
   "source": [
    "a=\"one\"\n",
    "\n",
    "def test():\n",
    "    a=\"python\"\n",
    "    print(a)\n",
    "    \n",
    "test()\n",
    "print(a)"
   ]
  },
  {
   "cell_type": "code",
   "execution_count": 18,
   "id": "d1370eca",
   "metadata": {},
   "outputs": [
    {
     "name": "stdout",
     "output_type": "stream",
     "text": [
      "python\n",
      "python\n"
     ]
    }
   ],
   "source": [
    "a=\"one\"\n",
    "\n",
    "def test():\n",
    "    global a\n",
    "    a=\"python\"\n",
    "    print(a)\n",
    "    \n",
    "test()\n",
    "print(a)"
   ]
  },
  {
   "cell_type": "markdown",
   "id": "6fa6a5fe",
   "metadata": {},
   "source": [
    "# Positional argument function"
   ]
  },
  {
   "cell_type": "code",
   "execution_count": 21,
   "id": "0e35aa64",
   "metadata": {},
   "outputs": [
    {
     "name": "stdout",
     "output_type": "stream",
     "text": [
      "sachin\n",
      "ramesh\n",
      "tendulkar\n"
     ]
    }
   ],
   "source": [
    "def test(fname,mname,lname):\n",
    "    print(fname)\n",
    "    print(mname)\n",
    "    print(lname)\n",
    "    \n",
    "test(\"sachin\",\"ramesh\",\"tendulkar\")"
   ]
  },
  {
   "cell_type": "code",
   "execution_count": 25,
   "id": "5ddb97db",
   "metadata": {},
   "outputs": [
    {
     "name": "stdout",
     "output_type": "stream",
     "text": [
      "tendulkar\n",
      "ramesh\n",
      "sachin\n"
     ]
    }
   ],
   "source": [
    "def test(fname,mname,lname):\n",
    "    print(fname)\n",
    "    print(mname)\n",
    "    print(lname)\n",
    "    \n",
    "test(lname= \"sachin\", mname=\"ramesh\", fname=\"tendulkar\") #positional argument"
   ]
  },
  {
   "cell_type": "code",
   "execution_count": 26,
   "id": "f438663a",
   "metadata": {},
   "outputs": [
    {
     "ename": "TypeError",
     "evalue": "test() missing 2 required positional arguments: 'mname' and 'lname'",
     "output_type": "error",
     "traceback": [
      "\u001b[1;31m---------------------------------------------------------------------------\u001b[0m",
      "\u001b[1;31mTypeError\u001b[0m                                 Traceback (most recent call last)",
      "Cell \u001b[1;32mIn[26], line 6\u001b[0m\n\u001b[0;32m      3\u001b[0m     \u001b[38;5;28mprint\u001b[39m(mname)\n\u001b[0;32m      4\u001b[0m     \u001b[38;5;28mprint\u001b[39m(lname)\n\u001b[1;32m----> 6\u001b[0m test(\u001b[38;5;124m\"\u001b[39m\u001b[38;5;124msachin\u001b[39m\u001b[38;5;124m\"\u001b[39m)\n",
      "\u001b[1;31mTypeError\u001b[0m: test() missing 2 required positional arguments: 'mname' and 'lname'"
     ]
    }
   ],
   "source": [
    "def test(fname,mname,lname):\n",
    "    print(fname)\n",
    "    print(mname)\n",
    "    print(lname)\n",
    "    \n",
    "test(\"sachin\")"
   ]
  },
  {
   "cell_type": "markdown",
   "id": "02f50d29",
   "metadata": {},
   "source": [
    "# Defaul argument"
   ]
  },
  {
   "cell_type": "code",
   "execution_count": 28,
   "id": "d2c2e06f",
   "metadata": {},
   "outputs": [
    {
     "name": "stdout",
     "output_type": "stream",
     "text": [
      "dhoni\n",
      "None\n",
      "None\n"
     ]
    }
   ],
   "source": [
    "def test(fname=None,mname=None,lname=None):\n",
    "    print(fname)\n",
    "    print(mname)\n",
    "    print(lname)\n",
    "    \n",
    "test(\"dhoni\")"
   ]
  },
  {
   "cell_type": "markdown",
   "id": "2da0a32f",
   "metadata": {},
   "source": [
    "# Find even and odd number using function"
   ]
  },
  {
   "cell_type": "markdown",
   "id": "f6ab19da",
   "metadata": {},
   "source": [
    " def test(start_pos,end_pos,mod):\n",
    "    \n",
    "    l=[]\n",
    "    \n",
    "    if mod == \"even\":\n",
    "        reminder=0\n",
    "        \n",
    "    else:\n",
    "        reminder=1\n",
    "        \n",
    "    for i in range(start_pos,end_pos):\n",
    "        if i%2 == reminder:\n",
    "            l.append(i)\n",
    "            \n",
    "        return l\n",
    "        "
   ]
  },
  {
   "cell_type": "code",
   "execution_count": 33,
   "id": "6359fb49",
   "metadata": {},
   "outputs": [
    {
     "name": "stdout",
     "output_type": "stream",
     "text": [
      "[10, 12, 14, 16, 18]\n"
     ]
    }
   ],
   "source": [
    "l=test(10,20,\"even\")\n",
    "print(l)"
   ]
  },
  {
   "cell_type": "markdown",
   "id": "ad646854",
   "metadata": {},
   "source": [
    "# List comphrension"
   ]
  },
  {
   "cell_type": "code",
   "execution_count": 31,
   "id": "16805110",
   "metadata": {},
   "outputs": [
    {
     "name": "stdout",
     "output_type": "stream",
     "text": [
      "[10, 12, 14, 16, 18]\n"
     ]
    }
   ],
   "source": [
    "a = [i for i in range(10,20) if i %2 == 0]\n",
    "print(a)"
   ]
  },
  {
   "cell_type": "code",
   "execution_count": null,
   "id": "983c922c",
   "metadata": {},
   "outputs": [],
   "source": []
  }
 ],
 "metadata": {
  "kernelspec": {
   "display_name": "Python 3 (ipykernel)",
   "language": "python",
   "name": "python3"
  },
  "language_info": {
   "codemirror_mode": {
    "name": "ipython",
    "version": 3
   },
   "file_extension": ".py",
   "mimetype": "text/x-python",
   "name": "python",
   "nbconvert_exporter": "python",
   "pygments_lexer": "ipython3",
   "version": "3.11.5"
  }
 },
 "nbformat": 4,
 "nbformat_minor": 5
}
